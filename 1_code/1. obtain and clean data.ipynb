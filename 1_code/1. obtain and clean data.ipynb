{
 "cells": [
  {
   "cell_type": "markdown",
   "metadata": {},
   "source": [
    "# Introduction"
   ]
  },
  {
   "cell_type": "code",
   "execution_count": 1,
   "metadata": {},
   "outputs": [],
   "source": [
    "NAME = '1. obtain and clean data' \n",
    "PROJECT = 'before trilogy'\n",
    "PYTHON_VERSION = '3.6'"
   ]
  },
  {
   "cell_type": "markdown",
   "metadata": {},
   "source": [
    "# Preamble"
   ]
  },
  {
   "cell_type": "markdown",
   "metadata": {},
   "source": [
    "### Imports  "
   ]
  },
  {
   "cell_type": "code",
   "execution_count": 2,
   "metadata": {},
   "outputs": [],
   "source": [
    "import os, re, math, time\n",
    "import requests, zipfile, io, os\n",
    "from tqdm.notebook import tqdm"
   ]
  },
  {
   "cell_type": "code",
   "execution_count": 3,
   "metadata": {},
   "outputs": [],
   "source": [
    "import requests\n",
    "import requests_html\n",
    "import lxml.html"
   ]
  },
  {
   "cell_type": "code",
   "execution_count": 4,
   "metadata": {},
   "outputs": [],
   "source": [
    "import pandas as pd \n",
    "import numpy as np"
   ]
  },
  {
   "cell_type": "code",
   "execution_count": 5,
   "metadata": {},
   "outputs": [],
   "source": [
    "import spacy\n",
    "import en_core_web_md\n",
    "nlp = en_core_web_md.load()"
   ]
  },
  {
   "cell_type": "code",
   "execution_count": 6,
   "metadata": {},
   "outputs": [],
   "source": [
    "import nltk\n",
    "from nltk.corpus import words"
   ]
  },
  {
   "cell_type": "markdown",
   "metadata": {},
   "source": [
    "### Set working directory  "
   ]
  },
  {
   "cell_type": "code",
   "execution_count": 7,
   "metadata": {},
   "outputs": [],
   "source": [
    "workdir = re.sub(\"(?<={})[\\w\\W]*\".format(PROJECT), \"\", os.getcwd())\n",
    "os.chdir(workdir)"
   ]
  },
  {
   "cell_type": "markdown",
   "metadata": {},
   "source": [
    "--- \n",
    "# Main code"
   ]
  },
  {
   "cell_type": "markdown",
   "metadata": {
    "collapsed": true
   },
   "source": [
    "## 1. Get the scripts"
   ]
  },
  {
   "cell_type": "markdown",
   "metadata": {},
   "source": [
    "### 1.1. Mignight"
   ]
  },
  {
   "cell_type": "markdown",
   "metadata": {},
   "source": [
    "The script is found:\n",
    "https://www.scripts.com/script.php?id=before_midnight_51&p=1"
   ]
  },
  {
   "cell_type": "code",
   "execution_count": 8,
   "metadata": {},
   "outputs": [],
   "source": [
    "# create a session object for requests\n",
    "session = requests_html.HTMLSession()"
   ]
  },
  {
   "cell_type": "code",
   "execution_count": 9,
   "metadata": {},
   "outputs": [],
   "source": [
    "# Get the strips from all pages (66 papes in total)\n",
    "midnight_script_list = []\n",
    "\n",
    "for page_number in range(1, 67):\n",
    "    # load the source from the URL + parse HTML\n",
    "    endpoint = 'https://www.scripts.com/script.php?/{}'\n",
    "    params = {'id': 'before_midnight_51', 'p':page_number}\n",
    "    res = session.get(endpoint, params = params)\n",
    "    \n",
    "    # extract information from the HTML structure\n",
    "    script_elements = res.html.find('#disp-quote-body')\n",
    "\n",
    "    # remove the part that is not script\n",
    "    text_elements = script_elements[0].text.split('\\nRate this script')[0]\n",
    "    \n",
    "    midnight_script_list.append(text_elements)"
   ]
  },
  {
   "cell_type": "code",
   "execution_count": 10,
   "metadata": {},
   "outputs": [],
   "source": [
    "midnight_script_full = ' '.join([x for x in midnight_script_list]) # remove all the duplicated whitespace"
   ]
  },
  {
   "cell_type": "code",
   "execution_count": 11,
   "metadata": {},
   "outputs": [],
   "source": [
    "# find the patterns in the text that can identify who says what.\n",
    "midnight_dial_list = re.findall('([A-Z\\s]+):(.*?)(?=[A-Z\\s]+:|$)', midnight_script_full, flags=re.DOTALL)\n",
    "# () matches groups, and will return as the element in tuple\n",
    "# [A-Z\\s]+ captures capital letters (since the script will capital letters to indicate talking person)\n",
    "# \\s: matches any white spaces characters (e.g., space, tabs, line breakers)\n",
    "# .*? captures everything\n",
    "# ?= captures a group after the main expression without including it in the result.\n",
    "# |$ makes sure that we do not miss the last sentence"
   ]
  },
  {
   "cell_type": "code",
   "execution_count": 12,
   "metadata": {},
   "outputs": [],
   "source": [
    "# clean the text\n",
    "def clean_text(string):\n",
    "    ## Remove cont'd thing\n",
    "    string = re.sub(\"([A-Z\\s]+\\s+\\(CONT'D\\))\", ' ', string)\n",
    "    \n",
    "    ## Remove the explaining action\n",
    "    string = re.sub(\"(\\(.*?\\))\", ' ', string)\n",
    "    \n",
    "    ## Clean rest\n",
    "    string = string.replace('\\n', ' ')\n",
    "    string = ' '.join([x for x in string.split() if x]) # remove all the duplicated whitespace\n",
    "    string = string.strip()\n",
    "    \n",
    "    return string"
   ]
  },
  {
   "cell_type": "code",
   "execution_count": 13,
   "metadata": {},
   "outputs": [],
   "source": [
    "midnight_dialogue_list = []\n",
    "for speaker, text in midnight_dial_list:\n",
    "    ret_dict = {'speaker' : clean_text(speaker), 'text' : clean_text(text)}\n",
    "    midnight_dialogue_list.append(ret_dict)\n",
    "# the data structure here is a list of dictionaries.\n",
    "# here, we have a speaker who is assoicated with multiple texts. Thus, we cannot use speaker name as the key of the dictionary."
   ]
  },
  {
   "cell_type": "code",
   "execution_count": 14,
   "metadata": {},
   "outputs": [],
   "source": [
    "midnight_dialogue_df = pd.DataFrame(midnight_dialogue_list)"
   ]
  },
  {
   "cell_type": "code",
   "execution_count": 15,
   "metadata": {},
   "outputs": [],
   "source": [
    "midnight_dialogue_df.to_csv('0_data\\midnight_rawscript.csv', index=False, encoding='utf-8')"
   ]
  },
  {
   "cell_type": "markdown",
   "metadata": {},
   "source": [
    "### 1.2. Before sunrise"
   ]
  },
  {
   "cell_type": "markdown",
   "metadata": {},
   "source": [
    "The script is found: \n",
    "https://sunrisesunset.fandom.com/wiki/Before_Sunrise_script"
   ]
  },
  {
   "cell_type": "code",
   "execution_count": 16,
   "metadata": {},
   "outputs": [],
   "source": [
    "# create a session object for requests\n",
    "session = requests_html.HTMLSession()"
   ]
  },
  {
   "cell_type": "code",
   "execution_count": 17,
   "metadata": {},
   "outputs": [],
   "source": [
    "# load the source from the URL + parse HTML\n",
    "res = session.get(r'https://sunrisesunset.fandom.com/wiki/Before_Sunrise_script')"
   ]
  },
  {
   "cell_type": "code",
   "execution_count": 18,
   "metadata": {},
   "outputs": [],
   "source": [
    "script_elements = res.html.find('p')\n",
    "# another option is '.mw-parser-output'"
   ]
  },
  {
   "cell_type": "code",
   "execution_count": 19,
   "metadata": {},
   "outputs": [
    {
     "data": {
      "text/plain": [
       "971"
      ]
     },
     "execution_count": 19,
     "metadata": {},
     "output_type": "execute_result"
    }
   ],
   "source": [
    "len(script_elements)\n",
    "# it turns out the first one captures all the text we want. "
   ]
  },
  {
   "cell_type": "code",
   "execution_count": 20,
   "metadata": {},
   "outputs": [],
   "source": [
    "# remove the heading\n",
    "text_elements = script_elements[0].text.split('\\nauf?!\\n\\n')[1]\n",
    "# remove the ending\n",
    "sunrise_script_full = text_elements.split('\\n\\n\\n(They kiss again')[0]"
   ]
  },
  {
   "cell_type": "code",
   "execution_count": 21,
   "metadata": {},
   "outputs": [],
   "source": [
    "# replace Céline to celine, otherwise, it will not work with regexp\n",
    "sunrise_script_full = re.sub('Céline', 'Celine', sunrise_script_full)"
   ]
  },
  {
   "cell_type": "code",
   "execution_count": 22,
   "metadata": {},
   "outputs": [],
   "source": [
    "# find the patterns in the text that can identify who says what.\n",
    "sunrise_dial_list = re.findall('([A-Z][a-z\\s]+):(.*?)(?=[A-Z][a-z\\s]+:|$)', sunrise_script_full, flags=re.DOTALL)"
   ]
  },
  {
   "cell_type": "code",
   "execution_count": 23,
   "metadata": {},
   "outputs": [],
   "source": [
    "# use the clean_text function that we define above to clean text data\n",
    "sunrise_dialogue_list = []\n",
    "for speaker, text in sunrise_dial_list:\n",
    "    ret_dict = {'speaker' : clean_text(speaker), 'text' : clean_text(text)}\n",
    "    sunrise_dialogue_list.append(ret_dict)"
   ]
  },
  {
   "cell_type": "code",
   "execution_count": 24,
   "metadata": {},
   "outputs": [],
   "source": [
    "sunrise_dialogue_df = pd.DataFrame(sunrise_dialogue_list)"
   ]
  },
  {
   "cell_type": "code",
   "execution_count": 25,
   "metadata": {},
   "outputs": [],
   "source": [
    "sunrise_dialogue_df.to_excel('0_data\\sunrise_rawscript.xlsx', index=False)"
   ]
  },
  {
   "cell_type": "markdown",
   "metadata": {},
   "source": [
    "### 1.3. Before sunset"
   ]
  },
  {
   "cell_type": "markdown",
   "metadata": {},
   "source": [
    "The script is found:\n",
    "https://sunrisesunset.fandom.com/wiki/Before_Sunset_(2004)_script"
   ]
  },
  {
   "cell_type": "code",
   "execution_count": 26,
   "metadata": {},
   "outputs": [],
   "source": [
    "# create a session object for requests\n",
    "session = requests_html.HTMLSession()"
   ]
  },
  {
   "cell_type": "code",
   "execution_count": 27,
   "metadata": {},
   "outputs": [],
   "source": [
    "# load the source from the URL + parse HTML\n",
    "res = session.get(r'https://sunrisesunset.fandom.com/wiki/Before_Sunset_(2004)_script')"
   ]
  },
  {
   "cell_type": "code",
   "execution_count": 28,
   "metadata": {},
   "outputs": [],
   "source": [
    "script_elements = res.html.find('p')\n",
    "# another option is '.mw-parser-output'"
   ]
  },
  {
   "cell_type": "code",
   "execution_count": 29,
   "metadata": {},
   "outputs": [
    {
     "data": {
      "text/plain": [
       "946"
      ]
     },
     "execution_count": 29,
     "metadata": {},
     "output_type": "execute_result"
    }
   ],
   "source": [
    "len(script_elements)\n",
    "# it turns out the first one captures all the text we want. "
   ]
  },
  {
   "cell_type": "code",
   "execution_count": 30,
   "metadata": {},
   "outputs": [],
   "source": [
    "# remove the heading\n",
    "text_elements = script_elements[0].text.split('The bookstore owner sits to Jesse’s right.)\\n')[1]\n",
    "# remove the ending\n",
    "sunset_script_full = text_elements.split('\\n\\n\\n(Céline continues her dance as the scene fades to black.)')[0]"
   ]
  },
  {
   "cell_type": "code",
   "execution_count": 31,
   "metadata": {},
   "outputs": [],
   "source": [
    "# replace Céline to celine, otherwise, it will not work with regexp\n",
    "sunset_script_full = re.sub('Céline', 'Celine', sunset_script_full)"
   ]
  },
  {
   "cell_type": "code",
   "execution_count": 32,
   "metadata": {},
   "outputs": [],
   "source": [
    "# find the patterns in the text that can identify who says what.\n",
    "sunset_dial_list = re.findall('([A-Z][a-z\\s]+):(.*?)(?=[A-Z][a-z\\s]+:|$)', sunset_script_full, flags=re.DOTALL)"
   ]
  },
  {
   "cell_type": "code",
   "execution_count": 33,
   "metadata": {},
   "outputs": [],
   "source": [
    "# use the clean_text function that we define above to clean text data\n",
    "sunset_dialogue_list = []\n",
    "for speaker, text in sunset_dial_list:\n",
    "    ret_dict = {'speaker' : clean_text(speaker), 'text' : clean_text(text)}\n",
    "    sunset_dialogue_list.append(ret_dict)"
   ]
  },
  {
   "cell_type": "code",
   "execution_count": 34,
   "metadata": {},
   "outputs": [],
   "source": [
    "sunset_dialogue_df = pd.DataFrame(sunset_dialogue_list)"
   ]
  },
  {
   "cell_type": "code",
   "execution_count": 35,
   "metadata": {},
   "outputs": [],
   "source": [
    "sunset_dialogue_df.to_excel('0_data\\sunset_rawscript.xlsx', index=False)"
   ]
  },
  {
   "cell_type": "markdown",
   "metadata": {},
   "source": [
    "## 2. Clean data"
   ]
  },
  {
   "cell_type": "markdown",
   "metadata": {},
   "source": [
    "### 2.1. Midnight"
   ]
  },
  {
   "cell_type": "code",
   "execution_count": 36,
   "metadata": {},
   "outputs": [],
   "source": [
    "midnight = pd.read_csv('0_data\\midnight_addscene.csv', encoding_errors='ignore')"
   ]
  },
  {
   "cell_type": "code",
   "execution_count": 37,
   "metadata": {},
   "outputs": [],
   "source": [
    "# clean incorrect speaker names\n",
    "midnight.speaker = midnight.speaker.replace('JEESE', 'JESSE', regex=False)\n",
    "midnight.speaker = midnight.speaker.replace('JESE', 'JESSE', regex=False)\n",
    "midnight.speaker = midnight.speaker.replace('AFTERNOON JESSE', 'JESSE', regex=False)"
   ]
  },
  {
   "cell_type": "code",
   "execution_count": 38,
   "metadata": {},
   "outputs": [],
   "source": [
    "# delete lines that are not speakers\n",
    "midnight = midnight[(midnight.speaker != 'FADE IN') & (midnight.speaker != 'FADE OUT')]"
   ]
  },
  {
   "cell_type": "code",
   "execution_count": 39,
   "metadata": {},
   "outputs": [],
   "source": [
    "# check if there is null columns in the text, otherwise, it will throw errors later\n",
    "# midnight[midnight.isnull().any(axis=1)] \n",
    "\n",
    "# It turns out some rows are empty. delete them. \n",
    "midnight = midnight.dropna()"
   ]
  },
  {
   "cell_type": "code",
   "execution_count": 40,
   "metadata": {},
   "outputs": [
    {
     "data": {
      "text/plain": [
       "JESSE             533\n",
       "CELINE            490\n",
       "STEFANOS           64\n",
       "ARIADNI            35\n",
       "HANK               30\n",
       "ACHILLES           21\n",
       "ANNA               21\n",
       "PATRICK            17\n",
       "SOFIA              12\n",
       "ELLA                4\n",
       "NATALIA             3\n",
       "GROUP               3\n",
       "HOTEL CLERK         2\n",
       "NINA                1\n",
       "OTHERS              1\n",
       "PATRICK/CELINE      1\n",
       "Name: speaker, dtype: int64"
      ]
     },
     "execution_count": 40,
     "metadata": {},
     "output_type": "execute_result"
    }
   ],
   "source": [
    "midnight.speaker.value_counts()"
   ]
  },
  {
   "cell_type": "code",
   "execution_count": 41,
   "metadata": {},
   "outputs": [],
   "source": [
    "# lower case the speaker and text\n",
    "midnight.text = midnight.text.str.lower()\n",
    "midnight.speaker = midnight.speaker.str.lower()\n",
    "midnight.scene_name = midnight.scene_name.str.lower()"
   ]
  },
  {
   "cell_type": "code",
   "execution_count": 42,
   "metadata": {},
   "outputs": [],
   "source": [
    "midnight.to_excel('2_pipeline\\midnight_for_analysis.xlsx', index=False)"
   ]
  },
  {
   "cell_type": "markdown",
   "metadata": {},
   "source": [
    "### 2.2. Sunrise"
   ]
  },
  {
   "cell_type": "code",
   "execution_count": 43,
   "metadata": {},
   "outputs": [],
   "source": [
    "sunrise = pd.read_excel('0_data\\sunrise_addscene.xlsx')"
   ]
  },
  {
   "cell_type": "code",
   "execution_count": 44,
   "metadata": {},
   "outputs": [],
   "source": [
    "# drop lines that are associated with non-speakers\n",
    "sunrise = sunrise[(sunrise.speaker != 'Location notes') \n",
    "                  & (sunrise.speaker != 'Scene clip') \n",
    "                  & (sunrise.speaker != 'Web') \n",
    "                  & (sunrise.speaker != 'Bus')\n",
    "                  & (sunrise.speaker != 'Metro stop')\n",
    "                  & (sunrise.speaker != 'Metro')\n",
    "                  & (sunrise.speaker != 'Museum is at http')\n",
    "                  & (sunrise.speaker != 'Scene trivia')\n",
    "                  & (sunrise.speaker != 'Note')\n",
    "                  & (sunrise.speaker != 'Tram')\n",
    "                  & (sunrise.speaker != 'Public transit')\n",
    "                  & (sunrise.speaker != 'Web')]"
   ]
  },
  {
   "cell_type": "code",
   "execution_count": 45,
   "metadata": {},
   "outputs": [],
   "source": [
    "# check if there is null columns in the text, otherwise, it will throw errors later\n",
    "# sunrise[sunrise.isnull().any(axis=1)] \n",
    "# It turns out two rows are empty. delete them. \n",
    "sunrise = sunrise.dropna()"
   ]
  },
  {
   "cell_type": "code",
   "execution_count": 46,
   "metadata": {},
   "outputs": [
    {
     "data": {
      "text/plain": [
       "Jesse              356\n",
       "Celine             345\n",
       "Man with tie        21\n",
       "Poet                11\n",
       "Man with jacket     10\n",
       "Gypsy                6\n",
       "Bartender            6\n",
       "Man                  4\n",
       "Woman                2\n",
       "Man on left          2\n",
       "music                1\n",
       "Doorman              1\n",
       "Musician             1\n",
       "Man on right         1\n",
       "Man right            1\n",
       "Older man            1\n",
       "Name: speaker, dtype: int64"
      ]
     },
     "execution_count": 46,
     "metadata": {},
     "output_type": "execute_result"
    }
   ],
   "source": [
    "sunrise.speaker.value_counts()"
   ]
  },
  {
   "cell_type": "code",
   "execution_count": 47,
   "metadata": {},
   "outputs": [],
   "source": [
    "# lower case the speaker and text\n",
    "sunrise.text = sunrise.text.str.lower()\n",
    "sunrise.speaker = sunrise.speaker.str.lower()\n",
    "sunrise.scene_name = sunrise.scene_name.str.lower()"
   ]
  },
  {
   "cell_type": "code",
   "execution_count": 48,
   "metadata": {},
   "outputs": [],
   "source": [
    "sunrise.to_excel('2_pipeline\\sunrise_for_analysis.xlsx', index=False)"
   ]
  },
  {
   "cell_type": "markdown",
   "metadata": {},
   "source": [
    "### 2.3 Sunset"
   ]
  },
  {
   "cell_type": "code",
   "execution_count": 49,
   "metadata": {},
   "outputs": [],
   "source": [
    "sunset = pd.read_excel('0_data\\sunset_addscene.xlsx')"
   ]
  },
  {
   "cell_type": "code",
   "execution_count": 50,
   "metadata": {},
   "outputs": [],
   "source": [
    "# drop lines that are associated with non-speakers\n",
    "sunset = sunset[(sunset.speaker != 'Location notes')\n",
    "                & (sunset.speaker != 'Metro')]"
   ]
  },
  {
   "cell_type": "code",
   "execution_count": 51,
   "metadata": {},
   "outputs": [],
   "source": [
    "# check if there is null columns in the text, otherwise, it will throw errors later\n",
    "#sunset[sunset.isnull().any(axis=1)]  \n",
    "sunset = sunset.dropna()"
   ]
  },
  {
   "cell_type": "code",
   "execution_count": 52,
   "metadata": {},
   "outputs": [
    {
     "data": {
      "text/plain": [
       "Jesse               381\n",
       "Celine              376\n",
       "Bookstore owner       6\n",
       "Female reporter       5\n",
       "Attendant             3\n",
       "Philippe              3\n",
       "Man at the grill      3\n",
       "Woman                 3\n",
       "Male reporter         2\n",
       "Waitress              1\n",
       "Man                   1\n",
       "Name: speaker, dtype: int64"
      ]
     },
     "execution_count": 52,
     "metadata": {},
     "output_type": "execute_result"
    }
   ],
   "source": [
    "sunset.speaker.value_counts()"
   ]
  },
  {
   "cell_type": "code",
   "execution_count": 53,
   "metadata": {},
   "outputs": [],
   "source": [
    "# lower case the speaker and text\n",
    "sunset.text = sunset.text.str.lower()\n",
    "sunset.speaker = sunset.speaker.str.lower()\n",
    "sunset.scene_name = sunset.scene_name.str.lower()"
   ]
  },
  {
   "cell_type": "code",
   "execution_count": 54,
   "metadata": {},
   "outputs": [],
   "source": [
    "sunset.to_excel('2_pipeline\\sunset_for_analysis.xlsx', index=False)"
   ]
  }
 ],
 "metadata": {
  "kernelspec": {
   "display_name": "Python 3 (ipykernel)",
   "language": "python",
   "name": "python3"
  },
  "language_info": {
   "codemirror_mode": {
    "name": "ipython",
    "version": 3
   },
   "file_extension": ".py",
   "mimetype": "text/x-python",
   "name": "python",
   "nbconvert_exporter": "python",
   "pygments_lexer": "ipython3",
   "version": "3.9.6"
  },
  "toc": {
   "colors": {
    "hover_highlight": "#DAA520",
    "running_highlight": "#FF0000",
    "selected_highlight": "#FFD700"
   },
   "moveMenuLeft": true,
   "nav_menu": {
    "height": "138px",
    "width": "252px"
   },
   "navigate_menu": true,
   "number_sections": false,
   "sideBar": true,
   "threshold": 4,
   "toc_cell": false,
   "toc_section_display": "block",
   "toc_window_display": false
  }
 },
 "nbformat": 4,
 "nbformat_minor": 1
}
